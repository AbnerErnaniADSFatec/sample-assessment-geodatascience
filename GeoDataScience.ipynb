{
 "cells": [
  {
   "cell_type": "markdown",
   "id": "cd482a8c-7b34-4eaf-8369-5dbe95631340",
   "metadata": {},
   "source": [
    "# Sample Assessment Geo Data Science\n",
    "\n",
    "## Abstract\n",
    "\n",
    "Over the last years, remote sensing has developed satellite sensors to collect high spatial and temporal resolution images from Earth's surface generating large data and new opportunities for developing methods to access and analyse this data, as Earth observation data cubes. With data cubes it is possible to analyse the Earth's surface over temporal and spatial attributes and allows the extraction of Land Use and Land Cover (LULC) features and patterns to map land use changes. This also provides an extensive mass of historical data about phenology and years of image time series [[1]](./README.md#References). Soon, this historical data can be useful for training deep learning algorithms based on temporal and spatial dimensions. The paper [[1]](./README.md#References) demonstrated how this historical data can be used to generate LULC samples using Time-Weighted Dynamic Time Warping (TWDTW). As demonstrated in [[2]](./README.md#References) the current ways to classify land use and land cover maps like Random Forest and Support Vector Machines (SVM) algorithms have been successfully applied to the LULC change classification. However these algorithms do not use the temporal dimension, an important characteristic in data cubes, in the classification process, resulting in lost data. In other words, the order of the images does not influence the results. The approach presented by the paper [[2]](./README.md#References) proposed a comprehensive study of Temporal Convolutional Neural Networks (TempCNNs), an in-depth approach that applies convolutions in the temporal dimension to automatically learn temporal and spectral features. The study presented by [[3]](./README.md#References) demonstrates the good quality of TempCNN to accurately map LULC without over-representation of majority classes using TempCNN. This approach aims to present a study about remote sensing time series features extraction using TempCNN to LULC classification to estimate the probability of LULC class based on deep learning algorithms in order to contribute to LULC sample generation over the Brazilian Biomes territory. This approach will use the Brazil Data Cube infrastructure to collect data and analyse them. To estimate the probability of LULC classes, this study will use an active learning method, a stored model that will predict the class of unlabeled data based on labeled data and stored, as an oracle. This study also seeks to demonstrate a comparison between the temporal based Neural Networks as TempCNN, non-temporal based like CNN and the current methods as the Random Forest and SVM Algorithm."
   ]
  },
  {
   "cell_type": "code",
   "execution_count": 46,
   "id": "6123e169-1dde-4c46-826e-b7564352ca0f",
   "metadata": {},
   "outputs": [],
   "source": [
    "source(\"./R/utils.R\")"
   ]
  },
  {
   "cell_type": "code",
   "execution_count": 106,
   "id": "e9537d32-d1e2-4351-84f7-437dec76ae37",
   "metadata": {},
   "outputs": [],
   "source": [
    "url <- \"\"\n",
    "format_to_sits <- function() {\n",
    "    data <- GET(url, encode = \"raw\")\n",
    "    id <- c()\n",
    "    label <- c()\n",
    "    start_date <- c()\n",
    "    end_date <- c()\n",
    "    longitude <- c()\n",
    "    latitude <- c()\n",
    "    for(item in content(data)) {\n",
    "        if (item$location$type == 'Point') {\n",
    "            id <- append(id, item$id)\n",
    "            label <- append(label, item$class_name)\n",
    "            start_date <- append(\n",
    "                start_date,\n",
    "                as.Date(\n",
    "                    item$start_date,\n",
    "                    format = \"%Y-%m-%dT00:00:00Z\"\n",
    "                )       \n",
    "            )\n",
    "            end_date <- append(\n",
    "                end_date,\n",
    "                as.Date(\n",
    "                    item$end_date,\n",
    "                    format = \"%Y-%m-%dT00:00:00Z\"\n",
    "                )\n",
    "            )\n",
    "            longitude <- append(\n",
    "                longitude,\n",
    "                item$location$coordinates[[1]]\n",
    "            )\n",
    "            latitude <- append(\n",
    "                latitude,\n",
    "                item$location$coordinates[[2]]\n",
    "            )\n",
    "        }\n",
    "    }\n",
    "\n",
    "    samples <- as_tibble(list(\n",
    "        label = label,\n",
    "        start_date = start_date,\n",
    "        end_date = end_date,\n",
    "        longitude = longitude,\n",
    "        latitude = latitude\n",
    "    ))\n",
    "    class(samples) <- c(\"sits\", class(samples))\n",
    "    return(samples)\n",
    "}"
   ]
  },
  {
   "cell_type": "code",
   "execution_count": 107,
   "id": "7f52ed70-d04c-41e7-b8df-4940a1185e96",
   "metadata": {},
   "outputs": [
    {
     "data": {
      "text/html": [
       "<table class=\"dataframe\">\n",
       "<caption>A sits: 12 × 5</caption>\n",
       "<thead>\n",
       "\t<tr><th scope=col>label</th><th scope=col>start_date</th><th scope=col>end_date</th><th scope=col>longitude</th><th scope=col>latitude</th></tr>\n",
       "\t<tr><th scope=col>&lt;chr&gt;</th><th scope=col>&lt;date&gt;</th><th scope=col>&lt;date&gt;</th><th scope=col>&lt;dbl&gt;</th><th scope=col>&lt;dbl&gt;</th></tr>\n",
       "</thead>\n",
       "<tbody>\n",
       "\t<tr><td>Desflorestamento</td><td>2020-01-01</td><td>2020-12-31</td><td>-49.16931</td><td>-13.07413</td></tr>\n",
       "\t<tr><td>Desflorestamento</td><td>2020-10-01</td><td>2020-11-30</td><td>-49.08069</td><td>-12.38322</td></tr>\n",
       "\t<tr><td>Desflorestamento</td><td>2020-01-01</td><td>2020-12-31</td><td>-49.08142</td><td>-12.39634</td></tr>\n",
       "\t<tr><td>Floresta        </td><td>2020-01-01</td><td>2020-12-31</td><td>-48.86169</td><td>-12.84929</td></tr>\n",
       "\t<tr><td>Floresta        </td><td>2020-10-01</td><td>2020-11-30</td><td>-49.07228</td><td>-12.38842</td></tr>\n",
       "\t<tr><td>Floresta        </td><td>2020-10-01</td><td>2020-11-30</td><td>-49.35883</td><td>-12.53848</td></tr>\n",
       "\t<tr><td>Hidrografia     </td><td>2020-01-01</td><td>2020-12-31</td><td>-49.52637</td><td>-12.83323</td></tr>\n",
       "\t<tr><td>Hidrografia     </td><td>2020-01-01</td><td>2020-12-31</td><td>-49.47470</td><td>-12.78217</td></tr>\n",
       "\t<tr><td>Não Floresta    </td><td>2020-01-01</td><td>2020-12-31</td><td>-49.63898</td><td>-12.33464</td></tr>\n",
       "\t<tr><td>Não Floresta    </td><td>2020-01-01</td><td>2020-12-31</td><td>-49.09790</td><td>-12.75555</td></tr>\n",
       "\t<tr><td>Nuvem           </td><td>2020-01-01</td><td>2020-12-31</td><td>-49.16931</td><td>-13.07413</td></tr>\n",
       "\t<tr><td>Nuvem           </td><td>2020-01-01</td><td>2020-12-31</td><td>-49.16931</td><td>-13.07413</td></tr>\n",
       "</tbody>\n",
       "</table>\n"
      ],
      "text/latex": [
       "A sits: 12 × 5\n",
       "\\begin{tabular}{lllll}\n",
       " label & start\\_date & end\\_date & longitude & latitude\\\\\n",
       " <chr> & <date> & <date> & <dbl> & <dbl>\\\\\n",
       "\\hline\n",
       "\t Desflorestamento & 2020-01-01 & 2020-12-31 & -49.16931 & -13.07413\\\\\n",
       "\t Desflorestamento & 2020-10-01 & 2020-11-30 & -49.08069 & -12.38322\\\\\n",
       "\t Desflorestamento & 2020-01-01 & 2020-12-31 & -49.08142 & -12.39634\\\\\n",
       "\t Floresta         & 2020-01-01 & 2020-12-31 & -48.86169 & -12.84929\\\\\n",
       "\t Floresta         & 2020-10-01 & 2020-11-30 & -49.07228 & -12.38842\\\\\n",
       "\t Floresta         & 2020-10-01 & 2020-11-30 & -49.35883 & -12.53848\\\\\n",
       "\t Hidrografia      & 2020-01-01 & 2020-12-31 & -49.52637 & -12.83323\\\\\n",
       "\t Hidrografia      & 2020-01-01 & 2020-12-31 & -49.47470 & -12.78217\\\\\n",
       "\t Não Floresta     & 2020-01-01 & 2020-12-31 & -49.63898 & -12.33464\\\\\n",
       "\t Não Floresta     & 2020-01-01 & 2020-12-31 & -49.09790 & -12.75555\\\\\n",
       "\t Nuvem            & 2020-01-01 & 2020-12-31 & -49.16931 & -13.07413\\\\\n",
       "\t Nuvem            & 2020-01-01 & 2020-12-31 & -49.16931 & -13.07413\\\\\n",
       "\\end{tabular}\n"
      ],
      "text/markdown": [
       "\n",
       "A sits: 12 × 5\n",
       "\n",
       "| label &lt;chr&gt; | start_date &lt;date&gt; | end_date &lt;date&gt; | longitude &lt;dbl&gt; | latitude &lt;dbl&gt; |\n",
       "|---|---|---|---|---|\n",
       "| Desflorestamento | 2020-01-01 | 2020-12-31 | -49.16931 | -13.07413 |\n",
       "| Desflorestamento | 2020-10-01 | 2020-11-30 | -49.08069 | -12.38322 |\n",
       "| Desflorestamento | 2020-01-01 | 2020-12-31 | -49.08142 | -12.39634 |\n",
       "| Floresta         | 2020-01-01 | 2020-12-31 | -48.86169 | -12.84929 |\n",
       "| Floresta         | 2020-10-01 | 2020-11-30 | -49.07228 | -12.38842 |\n",
       "| Floresta         | 2020-10-01 | 2020-11-30 | -49.35883 | -12.53848 |\n",
       "| Hidrografia      | 2020-01-01 | 2020-12-31 | -49.52637 | -12.83323 |\n",
       "| Hidrografia      | 2020-01-01 | 2020-12-31 | -49.47470 | -12.78217 |\n",
       "| Não Floresta     | 2020-01-01 | 2020-12-31 | -49.63898 | -12.33464 |\n",
       "| Não Floresta     | 2020-01-01 | 2020-12-31 | -49.09790 | -12.75555 |\n",
       "| Nuvem            | 2020-01-01 | 2020-12-31 | -49.16931 | -13.07413 |\n",
       "| Nuvem            | 2020-01-01 | 2020-12-31 | -49.16931 | -13.07413 |\n",
       "\n"
      ],
      "text/plain": [
       "   label            start_date end_date   longitude latitude \n",
       "1  Desflorestamento 2020-01-01 2020-12-31 -49.16931 -13.07413\n",
       "2  Desflorestamento 2020-10-01 2020-11-30 -49.08069 -12.38322\n",
       "3  Desflorestamento 2020-01-01 2020-12-31 -49.08142 -12.39634\n",
       "4  Floresta         2020-01-01 2020-12-31 -48.86169 -12.84929\n",
       "5  Floresta         2020-10-01 2020-11-30 -49.07228 -12.38842\n",
       "6  Floresta         2020-10-01 2020-11-30 -49.35883 -12.53848\n",
       "7  Hidrografia      2020-01-01 2020-12-31 -49.52637 -12.83323\n",
       "8  Hidrografia      2020-01-01 2020-12-31 -49.47470 -12.78217\n",
       "9  Não Floresta     2020-01-01 2020-12-31 -49.63898 -12.33464\n",
       "10 Não Floresta     2020-01-01 2020-12-31 -49.09790 -12.75555\n",
       "11 Nuvem            2020-01-01 2020-12-31 -49.16931 -13.07413\n",
       "12 Nuvem            2020-01-01 2020-12-31 -49.16931 -13.07413"
      ]
     },
     "metadata": {},
     "output_type": "display_data"
    }
   ],
   "source": [
    "samples <- format_to_sits()\n",
    "samples"
   ]
  },
  {
   "cell_type": "code",
   "execution_count": 96,
   "id": "08a892d6-844b-42b9-adab-93a8f7644413",
   "metadata": {},
   "outputs": [
    {
     "data": {
      "text/html": [
       "<table class=\"dataframe\">\n",
       "<caption>A sits: 1 × 7</caption>\n",
       "<thead>\n",
       "\t<tr><th scope=col>longitude</th><th scope=col>latitude</th><th scope=col>start_date</th><th scope=col>end_date</th><th scope=col>label</th><th scope=col>cube</th><th scope=col>time_series</th></tr>\n",
       "\t<tr><th scope=col>&lt;dbl&gt;</th><th scope=col>&lt;dbl&gt;</th><th scope=col>&lt;date&gt;</th><th scope=col>&lt;date&gt;</th><th scope=col>&lt;chr&gt;</th><th scope=col>&lt;chr&gt;</th><th scope=col>&lt;list&gt;</th></tr>\n",
       "</thead>\n",
       "<tbody>\n",
       "\t<tr><td>-64.62979</td><td>-9.996668</td><td>2018-07-28</td><td>2019-07-28</td><td>Deforestation</td><td>sentinel-077095</td><td>17740.0000, 17756.0000, 17772.0000, 17788.0000, 17804.0000, 17820.0000, 17836.0000, 17852.0000, 17868.0000, 17884.0000, 17897.0000, 17913.0000, 17929.0000, 17945.0000, 17961.0000, 17977.0000, 17993.0000, 18009.0000, 18025.0000, 18041.0000, 18057.0000, 18073.0000, 18089.0000, 18105.0000, 0.0166, 0.0369, 0.0541, 0.0579, 0.0567, 0.0523, 0.0478, 0.0433, 0.0388, 0.0408, 0.0428, 0.0448, 0.0411, 0.0374, 0.0336, 0.0345, 0.0354, 0.0363, 0.0372, 0.0326, 0.0374, 0.0390, 0.0392, 0.0443, 0.0181, 0.0503, 0.0829, 0.0761, 0.0757, 0.0720, 0.0682, 0.0645, 0.0607, 0.0662, 0.0718, 0.0774, 0.0717, 0.0659, 0.0601, 0.0570, 0.0538, 0.0506, 0.0474, 0.0381, 0.0574, 0.0579, 0.0613, 0.0715, 0.1839, 0.2450, 0.2322, 0.1270, 0.1146, 0.1177, 0.1208, 0.1239, 0.1271, 0.1368, 0.1466, 0.1564, 0.1734, 0.1904, 0.2074, 0.2413, 0.2753, 0.3093, 0.3433, 0.3423, 0.2739, 0.2699, 0.2564, 0.2501, 0.4781, 0.4419, 0.3427, 0.1467, 0.1399, 0.1520, 0.1641, 0.1762, 0.1883, 0.1917, 0.1951, 0.1985, 0.2499, 0.3014, 0.3529, 0.4195, 0.4861, 0.5527, 0.6194, 0.6430, 0.4670, 0.4727, 0.4381, 0.4010, 0.8674, 0.6965, 0.5295, 0.3103, 0.3019, 0.3344, 0.3670, 0.3995, 0.4321, 0.4220, 0.4119, 0.4018, 0.4729, 0.5440, 0.6151, 0.6576, 0.7002, 0.7427, 0.7853, 0.8228, 0.6917, 0.6914, 0.6630, 0.6095</td></tr>\n",
       "</tbody>\n",
       "</table>\n"
      ],
      "text/latex": [
       "A sits: 1 × 7\n",
       "\\begin{tabular}{lllllll}\n",
       " longitude & latitude & start\\_date & end\\_date & label & cube & time\\_series\\\\\n",
       " <dbl> & <dbl> & <date> & <date> & <chr> & <chr> & <list>\\\\\n",
       "\\hline\n",
       "\t -64.62979 & -9.996668 & 2018-07-28 & 2019-07-28 & Deforestation & sentinel-077095 & 17740.0000, 17756.0000, 17772.0000, 17788.0000, 17804.0000, 17820.0000, 17836.0000, 17852.0000, 17868.0000, 17884.0000, 17897.0000, 17913.0000, 17929.0000, 17945.0000, 17961.0000, 17977.0000, 17993.0000, 18009.0000, 18025.0000, 18041.0000, 18057.0000, 18073.0000, 18089.0000, 18105.0000, 0.0166, 0.0369, 0.0541, 0.0579, 0.0567, 0.0523, 0.0478, 0.0433, 0.0388, 0.0408, 0.0428, 0.0448, 0.0411, 0.0374, 0.0336, 0.0345, 0.0354, 0.0363, 0.0372, 0.0326, 0.0374, 0.0390, 0.0392, 0.0443, 0.0181, 0.0503, 0.0829, 0.0761, 0.0757, 0.0720, 0.0682, 0.0645, 0.0607, 0.0662, 0.0718, 0.0774, 0.0717, 0.0659, 0.0601, 0.0570, 0.0538, 0.0506, 0.0474, 0.0381, 0.0574, 0.0579, 0.0613, 0.0715, 0.1839, 0.2450, 0.2322, 0.1270, 0.1146, 0.1177, 0.1208, 0.1239, 0.1271, 0.1368, 0.1466, 0.1564, 0.1734, 0.1904, 0.2074, 0.2413, 0.2753, 0.3093, 0.3433, 0.3423, 0.2739, 0.2699, 0.2564, 0.2501, 0.4781, 0.4419, 0.3427, 0.1467, 0.1399, 0.1520, 0.1641, 0.1762, 0.1883, 0.1917, 0.1951, 0.1985, 0.2499, 0.3014, 0.3529, 0.4195, 0.4861, 0.5527, 0.6194, 0.6430, 0.4670, 0.4727, 0.4381, 0.4010, 0.8674, 0.6965, 0.5295, 0.3103, 0.3019, 0.3344, 0.3670, 0.3995, 0.4321, 0.4220, 0.4119, 0.4018, 0.4729, 0.5440, 0.6151, 0.6576, 0.7002, 0.7427, 0.7853, 0.8228, 0.6917, 0.6914, 0.6630, 0.6095\\\\\n",
       "\\end{tabular}\n"
      ],
      "text/markdown": [
       "\n",
       "A sits: 1 × 7\n",
       "\n",
       "| longitude &lt;dbl&gt; | latitude &lt;dbl&gt; | start_date &lt;date&gt; | end_date &lt;date&gt; | label &lt;chr&gt; | cube &lt;chr&gt; | time_series &lt;list&gt; |\n",
       "|---|---|---|---|---|---|---|\n",
       "| -64.62979 | -9.996668 | 2018-07-28 | 2019-07-28 | Deforestation | sentinel-077095 | 17740.0000, 17756.0000, 17772.0000, 17788.0000, 17804.0000, 17820.0000, 17836.0000, 17852.0000, 17868.0000, 17884.0000, 17897.0000, 17913.0000, 17929.0000, 17945.0000, 17961.0000, 17977.0000, 17993.0000, 18009.0000, 18025.0000, 18041.0000, 18057.0000, 18073.0000, 18089.0000, 18105.0000, 0.0166, 0.0369, 0.0541, 0.0579, 0.0567, 0.0523, 0.0478, 0.0433, 0.0388, 0.0408, 0.0428, 0.0448, 0.0411, 0.0374, 0.0336, 0.0345, 0.0354, 0.0363, 0.0372, 0.0326, 0.0374, 0.0390, 0.0392, 0.0443, 0.0181, 0.0503, 0.0829, 0.0761, 0.0757, 0.0720, 0.0682, 0.0645, 0.0607, 0.0662, 0.0718, 0.0774, 0.0717, 0.0659, 0.0601, 0.0570, 0.0538, 0.0506, 0.0474, 0.0381, 0.0574, 0.0579, 0.0613, 0.0715, 0.1839, 0.2450, 0.2322, 0.1270, 0.1146, 0.1177, 0.1208, 0.1239, 0.1271, 0.1368, 0.1466, 0.1564, 0.1734, 0.1904, 0.2074, 0.2413, 0.2753, 0.3093, 0.3433, 0.3423, 0.2739, 0.2699, 0.2564, 0.2501, 0.4781, 0.4419, 0.3427, 0.1467, 0.1399, 0.1520, 0.1641, 0.1762, 0.1883, 0.1917, 0.1951, 0.1985, 0.2499, 0.3014, 0.3529, 0.4195, 0.4861, 0.5527, 0.6194, 0.6430, 0.4670, 0.4727, 0.4381, 0.4010, 0.8674, 0.6965, 0.5295, 0.3103, 0.3019, 0.3344, 0.3670, 0.3995, 0.4321, 0.4220, 0.4119, 0.4018, 0.4729, 0.5440, 0.6151, 0.6576, 0.7002, 0.7427, 0.7853, 0.8228, 0.6917, 0.6914, 0.6630, 0.6095 |\n",
       "\n"
      ],
      "text/plain": [
       "  longitude latitude  start_date end_date   label         cube           \n",
       "1 -64.62979 -9.996668 2018-07-28 2019-07-28 Deforestation sentinel-077095\n",
       "  time_series                                                                                                                                                                                                                                                                                                                                                                                                                                                                                                                                                                                                                                                                                                                                                                                                                                                                                                                                                                                                                                                                                                                                                                                                                                                                                   \n",
       "1 17740.0000, 17756.0000, 17772.0000, 17788.0000, 17804.0000, 17820.0000, 17836.0000, 17852.0000, 17868.0000, 17884.0000, 17897.0000, 17913.0000, 17929.0000, 17945.0000, 17961.0000, 17977.0000, 17993.0000, 18009.0000, 18025.0000, 18041.0000, 18057.0000, 18073.0000, 18089.0000, 18105.0000, 0.0166, 0.0369, 0.0541, 0.0579, 0.0567, 0.0523, 0.0478, 0.0433, 0.0388, 0.0408, 0.0428, 0.0448, 0.0411, 0.0374, 0.0336, 0.0345, 0.0354, 0.0363, 0.0372, 0.0326, 0.0374, 0.0390, 0.0392, 0.0443, 0.0181, 0.0503, 0.0829, 0.0761, 0.0757, 0.0720, 0.0682, 0.0645, 0.0607, 0.0662, 0.0718, 0.0774, 0.0717, 0.0659, 0.0601, 0.0570, 0.0538, 0.0506, 0.0474, 0.0381, 0.0574, 0.0579, 0.0613, 0.0715, 0.1839, 0.2450, 0.2322, 0.1270, 0.1146, 0.1177, 0.1208, 0.1239, 0.1271, 0.1368, 0.1466, 0.1564, 0.1734, 0.1904, 0.2074, 0.2413, 0.2753, 0.3093, 0.3433, 0.3423, 0.2739, 0.2699, 0.2564, 0.2501, 0.4781, 0.4419, 0.3427, 0.1467, 0.1399, 0.1520, 0.1641, 0.1762, 0.1883, 0.1917, 0.1951, 0.1985, 0.2499, 0.3014, 0.3529, 0.4195, 0.4861, 0.5527, 0.6194, 0.6430, 0.4670, 0.4727, 0.4381, 0.4010, 0.8674, 0.6965, 0.5295, 0.3103, 0.3019, 0.3344, 0.3670, 0.3995, 0.4321, 0.4220, 0.4119, 0.4018, 0.4729, 0.5440, 0.6151, 0.6576, 0.7002, 0.7427, 0.7853, 0.8228, 0.6917, 0.6914, 0.6630, 0.6095"
      ]
     },
     "metadata": {},
     "output_type": "display_data"
    }
   ],
   "source": [
    "samples_sits <- read_file.tb(\"./data/samples/samples_amazonia.rda\", \"rda\")\n",
    "samples_sits[2, ]"
   ]
  },
  {
   "cell_type": "code",
   "execution_count": 109,
   "id": "05419b21-19af-4149-8d97-0d099a74f374",
   "metadata": {},
   "outputs": [],
   "source": [
    "data <- GET(url, encode = \"raw\")"
   ]
  },
  {
   "cell_type": "code",
   "execution_count": 115,
   "id": "0d396898-903d-4f7e-a27c-1d97fb591146",
   "metadata": {},
   "outputs": [
    {
     "data": {
      "text/html": [
       "'Point'"
      ],
      "text/latex": [
       "'Point'"
      ],
      "text/markdown": [
       "'Point'"
      ],
      "text/plain": [
       "[1] \"Point\""
      ]
     },
     "metadata": {},
     "output_type": "display_data"
    }
   ],
   "source": [
    "content(data)[[1]]$location$type"
   ]
  },
  {
   "cell_type": "code",
   "execution_count": 119,
   "id": "32792fa2-7a8a-417d-b864-8982272e3142",
   "metadata": {},
   "outputs": [
    {
     "data": {
      "text/html": [
       "<table class=\"dataframe\">\n",
       "<caption>A matrix: 7 × 2 of type dbl</caption>\n",
       "<thead>\n",
       "\t<tr><th scope=col>x_coord</th><th scope=col>y_coord</th></tr>\n",
       "</thead>\n",
       "<tbody>\n",
       "\t<tr><td>-64.63705</td><td>-10.29857</td></tr>\n",
       "\t<tr><td>-64.47291</td><td>-10.19789</td></tr>\n",
       "\t<tr><td>-64.38089</td><td>-10.24249</td></tr>\n",
       "\t<tr><td>-64.36646</td><td>-10.34181</td></tr>\n",
       "\t<tr><td>-64.49626</td><td>-10.42083</td></tr>\n",
       "\t<tr><td>-64.61576</td><td>-10.40259</td></tr>\n",
       "\t<tr><td>-64.63774</td><td>-10.29790</td></tr>\n",
       "</tbody>\n",
       "</table>\n"
      ],
      "text/latex": [
       "A matrix: 7 × 2 of type dbl\n",
       "\\begin{tabular}{ll}\n",
       " x\\_coord & y\\_coord\\\\\n",
       "\\hline\n",
       "\t -64.63705 & -10.29857\\\\\n",
       "\t -64.47291 & -10.19789\\\\\n",
       "\t -64.38089 & -10.24249\\\\\n",
       "\t -64.36646 & -10.34181\\\\\n",
       "\t -64.49626 & -10.42083\\\\\n",
       "\t -64.61576 & -10.40259\\\\\n",
       "\t -64.63774 & -10.29790\\\\\n",
       "\\end{tabular}\n"
      ],
      "text/markdown": [
       "\n",
       "A matrix: 7 × 2 of type dbl\n",
       "\n",
       "| x_coord | y_coord |\n",
       "|---|---|\n",
       "| -64.63705 | -10.29857 |\n",
       "| -64.47291 | -10.19789 |\n",
       "| -64.38089 | -10.24249 |\n",
       "| -64.36646 | -10.34181 |\n",
       "| -64.49626 | -10.42083 |\n",
       "| -64.61576 | -10.40259 |\n",
       "| -64.63774 | -10.29790 |\n",
       "\n"
      ],
      "text/plain": [
       "     x_coord   y_coord  \n",
       "[1,] -64.63705 -10.29857\n",
       "[2,] -64.47291 -10.19789\n",
       "[3,] -64.38089 -10.24249\n",
       "[4,] -64.36646 -10.34181\n",
       "[5,] -64.49626 -10.42083\n",
       "[6,] -64.61576 -10.40259\n",
       "[7,] -64.63774 -10.29790"
      ]
     },
     "metadata": {},
     "output_type": "display_data"
    }
   ],
   "source": [
    "x_coord <- c(-64.6370515,  -64.4729128,  -64.3808852, -64.3664629, -64.4962630, -64.6157616, -64.6377383)\n",
    "y_coord <- c(-10.2985706, -10.1978927, -10.2424922, -10.3418050, -10.4208274, -10.4025932, -10.2978950)\n",
    "xym <- cbind(x_coord, y_coord)\n",
    "xym"
   ]
  },
  {
   "cell_type": "code",
   "execution_count": 120,
   "id": "2fe00457-1d33-47cf-8ff0-1ff70dca65d2",
   "metadata": {},
   "outputs": [
    {
     "data": {
      "image/png": "[encoded data removed]",
      "text/plain": [
       "plot without title"
      ]
     },
     "metadata": {
      "image/png": {
       "height": 420,
       "width": 420
      }
     },
     "output_type": "display_data"
    }
   ],
   "source": [
    "library(sp)\n",
    "p = Polygon(xym)\n",
    "ps = Polygons(list(p),1)\n",
    "sps = SpatialPolygons(list(ps))\n",
    "plot(sps)"
   ]
  }
 ],
 "metadata": {
  "kernelspec": {
   "display_name": "sample-assessment",
   "language": "R",
   "name": "r3"
  },
  "language_info": {
   "codemirror_mode": "r",
   "file_extension": ".r",
   "mimetype": "text/x-r-source",
   "name": "R",
   "pygments_lexer": "r",
   "version": "4.0.5"
  }
 },
 "nbformat": 4,
 "nbformat_minor": 5
}
